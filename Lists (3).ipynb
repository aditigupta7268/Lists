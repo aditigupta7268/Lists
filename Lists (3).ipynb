{
 "cells": [
  {
   "cell_type": "code",
   "execution_count": null,
   "id": "0acfc63b-9579-4152-b614-032d924a4ab1",
   "metadata": {},
   "outputs": [],
   "source": [
    "# list\n",
    "# sequence datatype\n",
    "# int , float , string , tuple ....\n",
    "# ordered format\n",
    "# position => aap data store karenge"
   ]
  },
  {
   "cell_type": "code",
   "execution_count": 5,
   "id": "8f5d2cb9-e56c-42e0-89e0-c738b3e98f41",
   "metadata": {},
   "outputs": [
    {
     "name": "stdout",
     "output_type": "stream",
     "text": [
      "<class 'list'>\n"
     ]
    }
   ],
   "source": [
    "x = [10,20,40.5,\"hey\"]\n",
    "print(type(x))"
   ]
  },
  {
   "cell_type": "code",
   "execution_count": 6,
   "id": "6aae15d3-da36-48ad-b384-4a84233bf8f9",
   "metadata": {},
   "outputs": [
    {
     "name": "stdout",
     "output_type": "stream",
     "text": [
      "hey\n"
     ]
    }
   ],
   "source": [
    "x = [10,20,40.5,\"hey\"]\n",
    "print(x[-1])\n"
   ]
  },
  {
   "cell_type": "code",
   "execution_count": 7,
   "id": "3816df1e-0dd4-4a4c-a6a7-bdb376e0cbc1",
   "metadata": {},
   "outputs": [
    {
     "name": "stdout",
     "output_type": "stream",
     "text": [
      "[99, 20, 40.5, 'hey']\n"
     ]
    }
   ],
   "source": [
    "x = [10,20,40.5,\"hey\"]\n",
    "x[0] = 99\n",
    "print(x)"
   ]
  },
  {
   "cell_type": "code",
   "execution_count": 8,
   "id": "7f21d4c9-369a-488e-983f-0731cfdfc1f6",
   "metadata": {},
   "outputs": [
    {
     "name": "stdout",
     "output_type": "stream",
     "text": [
      "[10, 20, 40.5, 'hey', 80]\n"
     ]
    }
   ],
   "source": [
    "x = [10,20,40.5,\"hey\"]\n",
    "x.append(80)\n",
    "print(x)"
   ]
  },
  {
   "cell_type": "code",
   "execution_count": 17,
   "id": "c3263932-ec63-4172-a426-0514bd824424",
   "metadata": {},
   "outputs": [
    {
     "name": "stdout",
     "output_type": "stream",
     "text": [
      "['aditi', 10, 20, 40.5, 'hey', 'hello', 1, 3]\n"
     ]
    }
   ],
   "source": [
    "x = [10,20,40.5,\"hey\"]  # string is iterable\n",
    "x.extend([\"hello\",1,3])     # list is iterable\n",
    "x.insert(0,\"aditi\")\n",
    "print(x)"
   ]
  },
  {
   "cell_type": "code",
   "execution_count": 21,
   "id": "2538fa2e-ac24-47f9-996c-78b4ef491d7f",
   "metadata": {},
   "outputs": [
    {
     "name": "stdout",
     "output_type": "stream",
     "text": [
      "[10, 20, 30, 40, 'abc']\n",
      "def\n",
      "[10, 11, 20, 30, 45]\n"
     ]
    }
   ],
   "source": [
    "mylist = [10,20,30,40,\"abc\",\"def\"]\n",
    "out = mylist.pop()\n",
    "print(mylist)\n",
    "print(out)\n",
    "mylist2 = [10,20,30,11,45]\n",
    "mylist2.sort()\n",
    "print(mylist2)"
   ]
  },
  {
   "cell_type": "code",
   "execution_count": 22,
   "id": "a13cec8e-0a19-491d-9f46-22fa62cded9a",
   "metadata": {},
   "outputs": [
    {
     "name": "stdout",
     "output_type": "stream",
     "text": [
      "Help on list object:\n",
      "\n",
      "class list(object)\n",
      " |  list(iterable=(), /)\n",
      " |  \n",
      " |  Built-in mutable sequence.\n",
      " |  \n",
      " |  If no argument is given, the constructor creates a new empty list.\n",
      " |  The argument must be an iterable if specified.\n",
      " |  \n",
      " |  Methods defined here:\n",
      " |  \n",
      " |  __add__(self, value, /)\n",
      " |      Return self+value.\n",
      " |  \n",
      " |  __contains__(self, key, /)\n",
      " |      Return key in self.\n",
      " |  \n",
      " |  __delitem__(self, key, /)\n",
      " |      Delete self[key].\n",
      " |  \n",
      " |  __eq__(self, value, /)\n",
      " |      Return self==value.\n",
      " |  \n",
      " |  __ge__(self, value, /)\n",
      " |      Return self>=value.\n",
      " |  \n",
      " |  __getattribute__(self, name, /)\n",
      " |      Return getattr(self, name).\n",
      " |  \n",
      " |  __getitem__(...)\n",
      " |      x.__getitem__(y) <==> x[y]\n",
      " |  \n",
      " |  __gt__(self, value, /)\n",
      " |      Return self>value.\n",
      " |  \n",
      " |  __iadd__(self, value, /)\n",
      " |      Implement self+=value.\n",
      " |  \n",
      " |  __imul__(self, value, /)\n",
      " |      Implement self*=value.\n",
      " |  \n",
      " |  __init__(self, /, *args, **kwargs)\n",
      " |      Initialize self.  See help(type(self)) for accurate signature.\n",
      " |  \n",
      " |  __iter__(self, /)\n",
      " |      Implement iter(self).\n",
      " |  \n",
      " |  __le__(self, value, /)\n",
      " |      Return self<=value.\n",
      " |  \n",
      " |  __len__(self, /)\n",
      " |      Return len(self).\n",
      " |  \n",
      " |  __lt__(self, value, /)\n",
      " |      Return self<value.\n",
      " |  \n",
      " |  __mul__(self, value, /)\n",
      " |      Return self*value.\n",
      " |  \n",
      " |  __ne__(self, value, /)\n",
      " |      Return self!=value.\n",
      " |  \n",
      " |  __repr__(self, /)\n",
      " |      Return repr(self).\n",
      " |  \n",
      " |  __reversed__(self, /)\n",
      " |      Return a reverse iterator over the list.\n",
      " |  \n",
      " |  __rmul__(self, value, /)\n",
      " |      Return value*self.\n",
      " |  \n",
      " |  __setitem__(self, key, value, /)\n",
      " |      Set self[key] to value.\n",
      " |  \n",
      " |  __sizeof__(self, /)\n",
      " |      Return the size of the list in memory, in bytes.\n",
      " |  \n",
      " |  append(self, object, /)\n",
      " |      Append object to the end of the list.\n",
      " |  \n",
      " |  clear(self, /)\n",
      " |      Remove all items from list.\n",
      " |  \n",
      " |  copy(self, /)\n",
      " |      Return a shallow copy of the list.\n",
      " |  \n",
      " |  count(self, value, /)\n",
      " |      Return number of occurrences of value.\n",
      " |  \n",
      " |  extend(self, iterable, /)\n",
      " |      Extend list by appending elements from the iterable.\n",
      " |  \n",
      " |  index(self, value, start=0, stop=9223372036854775807, /)\n",
      " |      Return first index of value.\n",
      " |      \n",
      " |      Raises ValueError if the value is not present.\n",
      " |  \n",
      " |  insert(self, index, object, /)\n",
      " |      Insert object before index.\n",
      " |  \n",
      " |  pop(self, index=-1, /)\n",
      " |      Remove and return item at index (default last).\n",
      " |      \n",
      " |      Raises IndexError if list is empty or index is out of range.\n",
      " |  \n",
      " |  remove(self, value, /)\n",
      " |      Remove first occurrence of value.\n",
      " |      \n",
      " |      Raises ValueError if the value is not present.\n",
      " |  \n",
      " |  reverse(self, /)\n",
      " |      Reverse *IN PLACE*.\n",
      " |  \n",
      " |  sort(self, /, *, key=None, reverse=False)\n",
      " |      Sort the list in ascending order and return None.\n",
      " |      \n",
      " |      The sort is in-place (i.e. the list itself is modified) and stable (i.e. the\n",
      " |      order of two equal elements is maintained).\n",
      " |      \n",
      " |      If a key function is given, apply it once to each list item and sort them,\n",
      " |      ascending or descending, according to their function values.\n",
      " |      \n",
      " |      The reverse flag can be set to sort in descending order.\n",
      " |  \n",
      " |  ----------------------------------------------------------------------\n",
      " |  Class methods defined here:\n",
      " |  \n",
      " |  __class_getitem__(...) from builtins.type\n",
      " |      See PEP 585\n",
      " |  \n",
      " |  ----------------------------------------------------------------------\n",
      " |  Static methods defined here:\n",
      " |  \n",
      " |  __new__(*args, **kwargs) from builtins.type\n",
      " |      Create and return a new object.  See help(type) for accurate signature.\n",
      " |  \n",
      " |  ----------------------------------------------------------------------\n",
      " |  Data and other attributes defined here:\n",
      " |  \n",
      " |  __hash__ = None\n",
      "\n"
     ]
    }
   ],
   "source": [
    "help(mylist)"
   ]
  },
  {
   "cell_type": "code",
   "execution_count": 29,
   "id": "468c3d59-9e82-4455-b589-0a4ef03a69d8",
   "metadata": {},
   "outputs": [
    {
     "name": "stdout",
     "output_type": "stream",
     "text": [
      "10\n",
      "20\n",
      "30\n"
     ]
    }
   ],
   "source": [
    "# loop on a list\n",
    "mylist = [10,20,30]\n",
    "for i in range(0,3):\n",
    "    print(mylist[i])"
   ]
  },
  {
   "cell_type": "code",
   "execution_count": 36,
   "id": "92a8a96a-99c3-43ea-9e19-d331bc865aa6",
   "metadata": {},
   "outputs": [
    {
     "name": "stdout",
     "output_type": "stream",
     "text": [
      "[20, 30, 67, 15, 44, 34]\n"
     ]
    }
   ],
   "source": [
    "# to get elements from list whose value is greater than 10 in form of a new list  \n",
    "mylist = [10,20,30,67,10,2,6,8,15,44,34]\n",
    "newlist = []\n",
    "for i in range(0,len(mylist)):\n",
    "    if(mylist[i] > 10):\n",
    "        newlist.append(mylist[i])\n",
    "print(newlist)"
   ]
  },
  {
   "cell_type": "code",
   "execution_count": 37,
   "id": "028e3129-2d78-4764-be43-d13427129003",
   "metadata": {},
   "outputs": [
    {
     "name": "stdout",
     "output_type": "stream",
     "text": [
      "['hey', 'naina', '29']\n"
     ]
    }
   ],
   "source": [
    "# to get elements whose type is string \n",
    "mylist = [10,20,30,\"hey\",\"naina\",10,\"29\"]\n",
    "newlist = []\n",
    "for i in range(0,len(mylist)):\n",
    "    if(type(mylist[i]) == str):\n",
    "        newlist.append(mylist[i])\n",
    "print(newlist)"
   ]
  },
  {
   "cell_type": "code",
   "execution_count": 38,
   "id": "6c917ff4-ef44-4ef1-945b-519e0f37e9af",
   "metadata": {},
   "outputs": [
    {
     "name": "stdout",
     "output_type": "stream",
     "text": [
      "999\n"
     ]
    }
   ],
   "source": [
    "# to get maximum element from the list\n",
    "mylist = [10,20,30,15,6,7,8,999]\n",
    "max = 0\n",
    "for i in range(0,len(mylist)):\n",
    "    if(mylist[i] > max):\n",
    "        max = mylist[i]\n",
    "print(max)"
   ]
  },
  {
   "cell_type": "code",
   "execution_count": 41,
   "id": "50dcb81e-de42-4c04-adea-d5cbe7416b5a",
   "metadata": {},
   "outputs": [
    {
     "name": "stdout",
     "output_type": "stream",
     "text": [
      "1095 8 136.875\n"
     ]
    }
   ],
   "source": [
    "# total values in list , sum of all values of list and average \n",
    "mylist = [10,20,30,15,6,7,8,999]\n",
    "sum = 0\n",
    "total_values = len(mylist)\n",
    "for i in range(0,len(mylist)):\n",
    "    sum += mylist[i]\n",
    "average = sum / total_values\n",
    "print(sum,total_values , average)"
   ]
  },
  {
   "cell_type": "code",
   "execution_count": 45,
   "id": "ccfb9c0c-d111-413d-a055-d06aa0b3c467",
   "metadata": {},
   "outputs": [
    {
     "name": "stdout",
     "output_type": "stream",
     "text": [
      "ujjawal\n"
     ]
    }
   ],
   "source": [
    "# print element from list where character  \n",
    "mylist = [\"hello\" , \"hey\" , \"user\" , \"aman\" , \"ujjawal\"]\n",
    "for i in range(0,len(mylist)):\n",
    "    if(len(mylist[i]) > 5):\n",
    "        print(mylist[i])"
   ]
  },
  {
   "cell_type": "code",
   "execution_count": 6,
   "id": "1f0180e2-1a01-406c-a580-c331189cce35",
   "metadata": {},
   "outputs": [
    {
     "name": "stdout",
     "output_type": "stream",
     "text": [
      "7\n"
     ]
    }
   ],
   "source": [
    "# to get minimum value from list\n",
    "mylist = [10,20,30,40,60,7]\n",
    "min = mylist[0]\n",
    "for i in range(0,len(mylist)):\n",
    "    if(min > mylist[i]):\n",
    "        min = mylist[i]\n",
    "print(min)"
   ]
  },
  {
   "cell_type": "code",
   "execution_count": 14,
   "id": "0f25dc7c-e987-44c0-a3ee-b859e66c037e",
   "metadata": {},
   "outputs": [
    {
     "name": "stdout",
     "output_type": "stream",
     "text": [
      "30 20\n"
     ]
    }
   ],
   "source": [
    "# to get second highest value from list\n",
    "mylist = [10,20,30,4,6,20,30]\n",
    "max = mylist[0]\n",
    "smax = 0\n",
    "for i in range(0,len(mylist)):\n",
    "    if(max < mylist[i]):\n",
    "        smax = max\n",
    "        max = mylist[i]\n",
    "    elif(smax < mylist[i] and mylist[i] != max): # to have second element if you have second highest element at the last and to take care of duplicate values\n",
    "        smax = mylist[i]\n",
    "print(max , smax)"
   ]
  },
  {
   "cell_type": "code",
   "execution_count": 16,
   "id": "f484a545-c279-4500-8606-0680da11503e",
   "metadata": {},
   "outputs": [
    {
     "name": "stdout",
     "output_type": "stream",
     "text": [
      "Duplicate:  6\n",
      "Duplicate:  5\n",
      "[4, 5, 6, 7, 8, 9]\n"
     ]
    }
   ],
   "source": [
    "# to remove duplicate elements from a list\n",
    "mylist = [4,5,6,7,8,9,6,5]\n",
    "newlist = []\n",
    "for i in range(0,len(mylist)):\n",
    "    if(mylist[i] not in newlist):\n",
    "        newlist.append(mylist[i])\n",
    "    else:\n",
    "        print(\"Duplicate: \",mylist[i])\n",
    "print(newlist)"
   ]
  },
  {
   "cell_type": "code",
   "execution_count": 19,
   "id": "eadd983d-bd8a-45b9-aa59-4cde531d546a",
   "metadata": {},
   "outputs": [
    {
     "name": "stdout",
     "output_type": "stream",
     "text": [
      "2\n"
     ]
    }
   ],
   "source": [
    "# to count duplicate elements from a list\n",
    "mylist = [4,5,6,7,8,9,6,5]\n",
    "newlist = []\n",
    "count = 0 \n",
    "for i in range(0,len(mylist)):\n",
    "    if(mylist[i] not in newlist):\n",
    "        newlist.append(mylist[i])\n",
    "    else:\n",
    "        count += 1\n",
    "print(count)"
   ]
  },
  {
   "cell_type": "code",
   "execution_count": 31,
   "id": "78518cd6-c7bb-4098-9db5-01e3187abcf2",
   "metadata": {},
   "outputs": [
    {
     "name": "stdout",
     "output_type": "stream",
     "text": [
      "[10, 20, 40]\n"
     ]
    }
   ],
   "source": [
    "# method 2 to find duplicates using nested loops\n",
    "mylist = [10,20,30,40,10,20,40,50]\n",
    "newlist = []\n",
    "for i in range(0,len(mylist)):\n",
    "    for j in range(i+1,len(mylist)):\n",
    "        if(mylist[j] == mylist[i]):\n",
    "            newlist.append(mylist[i])\n",
    "print(newlist)"
   ]
  },
  {
   "cell_type": "code",
   "execution_count": 36,
   "id": "50b62ac8-f846-4f3d-a830-4cd187abcb7d",
   "metadata": {},
   "outputs": [
    {
     "name": "stdout",
     "output_type": "stream",
     "text": [
      "duplicate:  10\n",
      "duplicate:  20\n",
      "duplicate:  40\n"
     ]
    }
   ],
   "source": [
    "# method 2 to find duplicates using nested loops\n",
    "mylist = [10,20,30,40,10,20,40,50]\n",
    "for i in range(0,len(mylist)):\n",
    "    for j in range(i+1,len(mylist)):\n",
    "        if(mylist[j] == mylist[i]):\n",
    "            print(\"duplicate: \",mylist[i])\n",
    "# i => 10 (n)\n",
    "# j => (n-1)\n",
    "# Time Comlexity => n2-n => n2 "
   ]
  },
  {
   "cell_type": "code",
   "execution_count": 34,
   "id": "e5f9f501-a4ec-4072-96ed-c4a36bdeceb1",
   "metadata": {},
   "outputs": [
    {
     "name": "stdout",
     "output_type": "stream",
     "text": [
      "7 2\n"
     ]
    }
   ],
   "source": [
    "# to find sum of elements whose sum is equal to target \n",
    "mylist = [1,2,3,7,14]\n",
    "target = 9\n",
    "for i in range(0,len(mylist)):\n",
    "    for j in range(i+1,len(mylist)):\n",
    "        if(mylist[j] + mylist[i] == target):\n",
    "            print(mylist[j],mylist[i])"
   ]
  },
  {
   "cell_type": "code",
   "execution_count": 37,
   "id": "f5d4679d-00f5-4a0e-a619-8ce649284047",
   "metadata": {},
   "outputs": [
    {
     "name": "stdout",
     "output_type": "stream",
     "text": [
      "duplicate letter:  e\n"
     ]
    }
   ],
   "source": [
    "# duplicate character print\n",
    "data = \"hey user\"\n",
    "for i in range(0,len(data)):\n",
    "    for j in range(i+1,len(data)):\n",
    "        if(string[i] == string[j]):\n",
    "            print(\"duplicate letter: \",string[i])"
   ]
  },
  {
   "cell_type": "code",
   "execution_count": 2,
   "id": "df0c86d8-8e11-45f3-a71f-3d36d6b6a8fd",
   "metadata": {},
   "outputs": [
    {
     "name": "stdout",
     "output_type": "stream",
     "text": [
      "11 3\n"
     ]
    }
   ],
   "source": [
    "# Optimised Approach using two pointer approach\n",
    "mylist = [1,2,3,5,7,11,18]\n",
    "target = 14\n",
    "i = 0\n",
    "end = len(mylist) - 1\n",
    "while(i < len(mylist)):\n",
    "    if(mylist[end] + mylist[i] > target):\n",
    "        end -= 1\n",
    "    elif(mylist[i] + mylist[end] < target):\n",
    "        i += 1\n",
    "    else:\n",
    "        print(mylist[i],mylist[end])\n",
    "    i += 1\n",
    "    end -= 1"
   ]
  },
  {
   "cell_type": "code",
   "execution_count": 13,
   "id": "45907ea1-da3f-4060-a8b6-aa3e1a5c3d18",
   "metadata": {},
   "outputs": [
    {
     "name": "stdout",
     "output_type": "stream",
     "text": [
      "Palindrome\n"
     ]
    }
   ],
   "source": [
    "str1 = \"SARAS\"\n",
    "i = 0\n",
    "end = len(str1) - 1\n",
    "out = 0\n",
    "while(i < len(str1)):\n",
    "    if(str1[i] != str1[end]):\n",
    "        out = 1\n",
    "        break\n",
    "    i += 1\n",
    "    end -= 1\n",
    "if(out == 1):\n",
    "    print(\"Not a Palindrome\")\n",
    "else:\n",
    "    print(\"Palindrome\")"
   ]
  },
  {
   "cell_type": "code",
   "execution_count": 21,
   "id": "effd4634-9cb3-4142-b0c9-e19756d3b6bd",
   "metadata": {},
   "outputs": [
    {
     "name": "stdout",
     "output_type": "stream",
     "text": [
      "Duplicate:  10\n",
      "Duplicate:  10\n",
      "Duplicate:  10\n",
      "Duplicate:  10\n",
      "Duplicate:  31\n",
      "[10, 20, 31, 40]\n"
     ]
    }
   ],
   "source": [
    "# to remove duplicate elements from a list\n",
    "mylist = [10,20,10,10,10,10,31,40,31]\n",
    "newlist = []\n",
    "for i in range(0,len(mylist)):\n",
    "    if(mylist[i] not in newlist):\n",
    "        newlist.append(mylist[i])\n",
    "    else:\n",
    "        print(\"Duplicate: \",mylist[i])\n",
    "print(newlist)"
   ]
  },
  {
   "cell_type": "code",
   "execution_count": null,
   "id": "7838afd8-0b21-46cc-bc2e-d144e94af45d",
   "metadata": {},
   "outputs": [],
   "source": []
  }
 ],
 "metadata": {
  "kernelspec": {
   "display_name": "Python 3 (ipykernel)",
   "language": "python",
   "name": "python3"
  },
  "language_info": {
   "codemirror_mode": {
    "name": "ipython",
    "version": 3
   },
   "file_extension": ".py",
   "mimetype": "text/x-python",
   "name": "python",
   "nbconvert_exporter": "python",
   "pygments_lexer": "ipython3",
   "version": "3.11.0rc2"
  }
 },
 "nbformat": 4,
 "nbformat_minor": 5
}
